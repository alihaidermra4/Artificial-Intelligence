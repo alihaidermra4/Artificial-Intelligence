{
 "cells": [
  {
   "cell_type": "code",
   "execution_count": 13,
   "id": "280293fb",
   "metadata": {},
   "outputs": [
    {
     "name": "stdout",
     "output_type": "stream",
     "text": [
      "0\n",
      "1\n",
      "3\n",
      "4\n",
      "2\n"
     ]
    },
    {
     "data": {
      "text/plain": [
       "{'0', '1', '2', '3', '4'}"
      ]
     },
     "execution_count": 13,
     "metadata": {},
     "output_type": "execute_result"
    }
   ],
   "source": [
    "# Pre - Order DFS algorithm\n",
    "def dfs(graph, start, visited=None):\n",
    "    if visited is None:\n",
    "        visited = set()\n",
    "    visited.add(start)\n",
    "\n",
    "    print(start)\n",
    "\n",
    "    for next in graph[start] - visited:\n",
    "        dfs(graph, next, visited)\n",
    "    return visited\n",
    "\n",
    "\n",
    "graphs = {'0': set(['1', '2']),\n",
    "         '1': set(['0', '3', '4']),\n",
    "         '2': set(['0']),\n",
    "         '3': set(['1']),\n",
    "         '4': set(['1'])}\n",
    "\n",
    "dfs(graphs, '0')"
   ]
  },
  {
   "cell_type": "markdown",
   "id": "3850d2b7",
   "metadata": {},
   "source": [
    "Pre-Order, In-Order & Post-Order DFS"
   ]
  },
  {
   "cell_type": "code",
   "execution_count": 2,
   "id": "97f15eeb",
   "metadata": {},
   "outputs": [],
   "source": [
    "class TreeNode:\n",
    "    def __init__(self, val):\n",
    "        self.val = val\n",
    "        self.left = None\n",
    "        self.right = None"
   ]
  },
  {
   "cell_type": "code",
   "execution_count": 7,
   "id": "673ebdd2",
   "metadata": {},
   "outputs": [],
   "source": [
    "def preorder_dfs(root):\n",
    "    if root is None:\n",
    "        return\n",
    "    print(root.val, end=' ') \n",
    "    preorder_dfs(root.left)\n",
    "    preorder_dfs(root.right)       # Right"
   ]
  },
  {
   "cell_type": "code",
   "execution_count": 8,
   "id": "09d7d987",
   "metadata": {},
   "outputs": [],
   "source": [
    "def inorder_dfs(root):\n",
    "    if root is None:\n",
    "        return\n",
    "    inorder_dfs(root.left)     # Left\n",
    "    print(root.val, end=' ')   # Root\n",
    "    inorder_dfs(root.right)    # Right\n"
   ]
  },
  {
   "cell_type": "code",
   "execution_count": 9,
   "id": "4f9eb75e",
   "metadata": {},
   "outputs": [],
   "source": [
    "def postorder_dfs(root):\n",
    "    if root is None:\n",
    "        return\n",
    "    postorder_dfs(root.left)    # Left\n",
    "    postorder_dfs(root.right)   # Right\n",
    "    print(root.val, end=' ')    # Root\n"
   ]
  },
  {
   "cell_type": "markdown",
   "id": "3f84fe77",
   "metadata": {},
   "source": [
    "      A\n",
    "     / \\\n",
    "    B   C\n",
    "   / \\\n",
    "  D   E"
   ]
  },
  {
   "cell_type": "code",
   "execution_count": 10,
   "id": "be201fe3",
   "metadata": {},
   "outputs": [
    {
     "name": "stdout",
     "output_type": "stream",
     "text": [
      "Pre-Order Traversal:\n",
      "A B D E C \n",
      "In-Order Traversal:\n",
      "D B E A C \n",
      "Post-Order Traversal:\n",
      "D E B C A "
     ]
    }
   ],
   "source": [
    "# Create nodes\n",
    "root = TreeNode('A')\n",
    "root.left = TreeNode('B')\n",
    "root.right = TreeNode('C')\n",
    "root.left.left = TreeNode('D')\n",
    "root.left.right = TreeNode('E')\n",
    "\n",
    "# Run DFS\n",
    "print(\"Pre-Order Traversal:\")\n",
    "preorder_dfs(root)   # Output: A B D E C\n",
    "\n",
    "print(\"\\nIn-Order Traversal:\")\n",
    "inorder_dfs(root)   # Output: D B E A C\n",
    "\n",
    "print(\"\\nPost-Order Traversal:\")\n",
    "postorder_dfs(root) # Output: D E B C A\n"
   ]
  },
  {
   "cell_type": "markdown",
   "id": "4f8034fe",
   "metadata": {},
   "source": [
    "# Breadth First Search\n"
   ]
  },
  {
   "cell_type": "code",
   "execution_count": null,
   "id": "f469fd48",
   "metadata": {},
   "outputs": [],
   "source": [
    "from collections import deque\n",
    "\n",
    "def bfs(graph, start):\n",
    "    visited = set()\n",
    "    queue = deque([start])\n",
    "    \n",
    "    while queue:\n",
    "        node = queue.popleft()\n",
    "        if node not in visited:\n",
    "            print(node)  # Process the node\n",
    "            visited.add(node)\n",
    "            queue.extend(neighbor for neighbor in graph[node] if neighbor not in visited)"
   ]
  },
  {
   "cell_type": "code",
   "execution_count": null,
   "id": "b81fe44e",
   "metadata": {},
   "outputs": [],
   "source": [
    "graph = {\n",
    "    'A': ['B', 'C'],\n",
    "    'B': ['D', 'E'],\n",
    "    'C': ['F'],\n",
    "    'D': [],\n",
    "    'E': ['F'],\n",
    "    'F': []\n",
    "}\n",
    "bfs(graph, 'A')\n"
   ]
  }
 ],
 "metadata": {
  "kernelspec": {
   "display_name": "base",
   "language": "python",
   "name": "python3"
  },
  "language_info": {
   "codemirror_mode": {
    "name": "ipython",
    "version": 3
   },
   "file_extension": ".py",
   "mimetype": "text/x-python",
   "name": "python",
   "nbconvert_exporter": "python",
   "pygments_lexer": "ipython3",
   "version": "3.12.4"
  }
 },
 "nbformat": 4,
 "nbformat_minor": 5
}
