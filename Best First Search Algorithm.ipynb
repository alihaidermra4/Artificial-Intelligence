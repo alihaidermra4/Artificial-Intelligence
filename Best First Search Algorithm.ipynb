{
 "cells": [
  {
   "cell_type": "code",
   "execution_count": 1,
   "id": "58421e28",
   "metadata": {},
   "outputs": [],
   "source": [
    "import heapq\n",
    "\n",
    "def best_first_search(graph, start, goal, heuristic):\n",
    "    visited = set()\n",
    "    priority_queue = []\n",
    "    heapq.heappush(priority_queue, (heuristic[start], start))\n",
    "\n",
    "    while priority_queue:\n",
    "        _, current = heapq.heappop(priority_queue)\n",
    "        print(f\"Visiting: {current}\")\n",
    "        if current == goal:\n",
    "            print(\"Goal reached!\")\n",
    "            return True\n",
    "        visited.add(current)\n",
    "\n",
    "        for neighbor in graph[current]:\n",
    "            if neighbor not in visited:\n",
    "                heapq.heappush(priority_queue, (heuristic[neighbor], neighbor))\n",
    "    return False"
   ]
  },
  {
   "cell_type": "code",
   "execution_count": 4,
   "id": "787608e5",
   "metadata": {},
   "outputs": [
    {
     "name": "stdout",
     "output_type": "stream",
     "text": [
      "Visiting: A\n",
      "Visiting: C\n",
      "Visiting: B\n",
      "Visiting: E\n",
      "Visiting: D\n",
      "Visiting: F\n",
      "Goal reached!\n"
     ]
    },
    {
     "data": {
      "text/plain": [
       "True"
      ]
     },
     "execution_count": 4,
     "metadata": {},
     "output_type": "execute_result"
    }
   ],
   "source": [
    "# Example graph (undirected)\n",
    "graph = {\n",
    "    'A': ['B', 'C'],\n",
    "    'B': ['D', 'E'],\n",
    "    'C': [],\n",
    "    'D': ['F'],\n",
    "    'E': [],\n",
    "    'F': []\n",
    "}\n",
    "\n",
    "# Example heuristic values (the lower the value, the closer to the goal)\n",
    "heuristic = {\n",
    "    'A': 5,\n",
    "    'B': 3,\n",
    "    'C': 2,\n",
    "    'D': 6,\n",
    "    'E': 1,\n",
    "    'F': 0\n",
    "}\n",
    "\n",
    "# Running the Best-First Search\n",
    "best_first_search(graph, 'A', 'F', heuristic)\n"
   ]
  },
  {
   "cell_type": "code",
   "execution_count": null,
   "id": "09d00742",
   "metadata": {},
   "outputs": [],
   "source": []
  }
 ],
 "metadata": {
  "kernelspec": {
   "display_name": "base",
   "language": "python",
   "name": "python3"
  },
  "language_info": {
   "codemirror_mode": {
    "name": "ipython",
    "version": 3
   },
   "file_extension": ".py",
   "mimetype": "text/x-python",
   "name": "python",
   "nbconvert_exporter": "python",
   "pygments_lexer": "ipython3",
   "version": "3.12.4"
  }
 },
 "nbformat": 4,
 "nbformat_minor": 5
}
