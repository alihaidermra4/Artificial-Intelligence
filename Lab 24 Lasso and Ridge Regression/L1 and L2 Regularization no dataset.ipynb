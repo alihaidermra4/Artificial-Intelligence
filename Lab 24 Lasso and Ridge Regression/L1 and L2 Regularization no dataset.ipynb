{
 "cells": [
  {
   "cell_type": "code",
   "execution_count": 7,
   "id": "b6ad749b",
   "metadata": {},
   "outputs": [],
   "source": [
    "import numpy as np\n",
    "import pandas as pd\n",
    "import matplotlib.pyplot as plt\n",
    "from sklearn.linear_model import LinearRegression, Lasso, Ridge\n",
    "from sklearn.datasets import make_regression\n",
    "from sklearn.model_selection import train_test_split\n",
    "from sklearn.metrics import mean_squared_error"
   ]
  },
  {
   "cell_type": "code",
   "execution_count": 2,
   "id": "5ea6f1ec",
   "metadata": {},
   "outputs": [],
   "source": [
    "X, y = make_regression(n_samples=100, n_features=5, noise=10, random_state=42)"
   ]
  },
  {
   "cell_type": "code",
   "execution_count": 9,
   "id": "9b9a60c4",
   "metadata": {},
   "outputs": [
    {
     "data": {
      "text/html": [
       "<div>\n",
       "<style scoped>\n",
       "    .dataframe tbody tr th:only-of-type {\n",
       "        vertical-align: middle;\n",
       "    }\n",
       "\n",
       "    .dataframe tbody tr th {\n",
       "        vertical-align: top;\n",
       "    }\n",
       "\n",
       "    .dataframe thead th {\n",
       "        text-align: right;\n",
       "    }\n",
       "</style>\n",
       "<table border=\"1\" class=\"dataframe\">\n",
       "  <thead>\n",
       "    <tr style=\"text-align: right;\">\n",
       "      <th></th>\n",
       "      <th>0</th>\n",
       "      <th>1</th>\n",
       "      <th>2</th>\n",
       "      <th>3</th>\n",
       "      <th>4</th>\n",
       "    </tr>\n",
       "  </thead>\n",
       "  <tbody>\n",
       "    <tr>\n",
       "      <th>0</th>\n",
       "      <td>0.975120</td>\n",
       "      <td>-0.677162</td>\n",
       "      <td>-0.012247</td>\n",
       "      <td>-0.897254</td>\n",
       "      <td>0.075805</td>\n",
       "    </tr>\n",
       "    <tr>\n",
       "      <th>1</th>\n",
       "      <td>0.081874</td>\n",
       "      <td>-0.485364</td>\n",
       "      <td>0.758969</td>\n",
       "      <td>-0.772825</td>\n",
       "      <td>-0.236819</td>\n",
       "    </tr>\n",
       "    <tr>\n",
       "      <th>2</th>\n",
       "      <td>-1.412304</td>\n",
       "      <td>-0.908024</td>\n",
       "      <td>-0.562288</td>\n",
       "      <td>-1.012831</td>\n",
       "      <td>0.314247</td>\n",
       "    </tr>\n",
       "    <tr>\n",
       "      <th>3</th>\n",
       "      <td>-0.645120</td>\n",
       "      <td>0.361636</td>\n",
       "      <td>1.356240</td>\n",
       "      <td>-0.072010</td>\n",
       "      <td>1.003533</td>\n",
       "    </tr>\n",
       "    <tr>\n",
       "      <th>4</th>\n",
       "      <td>-0.622700</td>\n",
       "      <td>0.280992</td>\n",
       "      <td>-1.952088</td>\n",
       "      <td>-0.151785</td>\n",
       "      <td>0.588317</td>\n",
       "    </tr>\n",
       "  </tbody>\n",
       "</table>\n",
       "</div>"
      ],
      "text/plain": [
       "          0         1         2         3         4\n",
       "0  0.975120 -0.677162 -0.012247 -0.897254  0.075805\n",
       "1  0.081874 -0.485364  0.758969 -0.772825 -0.236819\n",
       "2 -1.412304 -0.908024 -0.562288 -1.012831  0.314247\n",
       "3 -0.645120  0.361636  1.356240 -0.072010  1.003533\n",
       "4 -0.622700  0.280992 -1.952088 -0.151785  0.588317"
      ]
     },
     "execution_count": 9,
     "metadata": {},
     "output_type": "execute_result"
    }
   ],
   "source": [
    "X_data = pd.DataFrame(X)\n",
    "X_data.head()"
   ]
  },
  {
   "cell_type": "code",
   "execution_count": 10,
   "id": "0b14db93",
   "metadata": {},
   "outputs": [
    {
     "name": "stdout",
     "output_type": "stream",
     "text": [
      "<class 'pandas.core.frame.DataFrame'>\n",
      "RangeIndex: 100 entries, 0 to 99\n",
      "Data columns (total 5 columns):\n",
      " #   Column  Non-Null Count  Dtype  \n",
      "---  ------  --------------  -----  \n",
      " 0   0       100 non-null    float64\n",
      " 1   1       100 non-null    float64\n",
      " 2   2       100 non-null    float64\n",
      " 3   3       100 non-null    float64\n",
      " 4   4       100 non-null    float64\n",
      "dtypes: float64(5)\n",
      "memory usage: 4.0 KB\n"
     ]
    }
   ],
   "source": [
    "X_data.info()"
   ]
  },
  {
   "cell_type": "code",
   "execution_count": 12,
   "id": "bdca086d",
   "metadata": {},
   "outputs": [
    {
     "data": {
      "text/html": [
       "<div>\n",
       "<style scoped>\n",
       "    .dataframe tbody tr th:only-of-type {\n",
       "        vertical-align: middle;\n",
       "    }\n",
       "\n",
       "    .dataframe tbody tr th {\n",
       "        vertical-align: top;\n",
       "    }\n",
       "\n",
       "    .dataframe thead th {\n",
       "        text-align: right;\n",
       "    }\n",
       "</style>\n",
       "<table border=\"1\" class=\"dataframe\">\n",
       "  <thead>\n",
       "    <tr style=\"text-align: right;\">\n",
       "      <th></th>\n",
       "      <th>0</th>\n",
       "      <th>1</th>\n",
       "      <th>2</th>\n",
       "      <th>3</th>\n",
       "      <th>4</th>\n",
       "    </tr>\n",
       "  </thead>\n",
       "  <tbody>\n",
       "    <tr>\n",
       "      <th>count</th>\n",
       "      <td>100.000000</td>\n",
       "      <td>100.000000</td>\n",
       "      <td>100.000000</td>\n",
       "      <td>100.000000</td>\n",
       "      <td>100.000000</td>\n",
       "    </tr>\n",
       "    <tr>\n",
       "      <th>mean</th>\n",
       "      <td>-0.032202</td>\n",
       "      <td>0.128058</td>\n",
       "      <td>-0.044747</td>\n",
       "      <td>0.076954</td>\n",
       "      <td>-0.093874</td>\n",
       "    </tr>\n",
       "    <tr>\n",
       "      <th>std</th>\n",
       "      <td>1.072806</td>\n",
       "      <td>0.959556</td>\n",
       "      <td>0.900352</td>\n",
       "      <td>0.984110</td>\n",
       "      <td>0.983943</td>\n",
       "    </tr>\n",
       "    <tr>\n",
       "      <th>min</th>\n",
       "      <td>-2.619745</td>\n",
       "      <td>-1.913280</td>\n",
       "      <td>-1.952088</td>\n",
       "      <td>-2.301921</td>\n",
       "      <td>-3.241267</td>\n",
       "    </tr>\n",
       "    <tr>\n",
       "      <th>25%</th>\n",
       "      <td>-0.757046</td>\n",
       "      <td>-0.536288</td>\n",
       "      <td>-0.734897</td>\n",
       "      <td>-0.678136</td>\n",
       "      <td>-0.700307</td>\n",
       "    </tr>\n",
       "    <tr>\n",
       "      <th>50%</th>\n",
       "      <td>-0.145714</td>\n",
       "      <td>0.152465</td>\n",
       "      <td>-0.010110</td>\n",
       "      <td>0.066421</td>\n",
       "      <td>-0.024662</td>\n",
       "    </tr>\n",
       "    <tr>\n",
       "      <th>75%</th>\n",
       "      <td>0.648170</td>\n",
       "      <td>0.667929</td>\n",
       "      <td>0.524237</td>\n",
       "      <td>0.830645</td>\n",
       "      <td>0.532419</td>\n",
       "    </tr>\n",
       "    <tr>\n",
       "      <th>max</th>\n",
       "      <td>3.852731</td>\n",
       "      <td>3.078881</td>\n",
       "      <td>2.314659</td>\n",
       "      <td>1.886186</td>\n",
       "      <td>2.122156</td>\n",
       "    </tr>\n",
       "  </tbody>\n",
       "</table>\n",
       "</div>"
      ],
      "text/plain": [
       "                0           1           2           3           4\n",
       "count  100.000000  100.000000  100.000000  100.000000  100.000000\n",
       "mean    -0.032202    0.128058   -0.044747    0.076954   -0.093874\n",
       "std      1.072806    0.959556    0.900352    0.984110    0.983943\n",
       "min     -2.619745   -1.913280   -1.952088   -2.301921   -3.241267\n",
       "25%     -0.757046   -0.536288   -0.734897   -0.678136   -0.700307\n",
       "50%     -0.145714    0.152465   -0.010110    0.066421   -0.024662\n",
       "75%      0.648170    0.667929    0.524237    0.830645    0.532419\n",
       "max      3.852731    3.078881    2.314659    1.886186    2.122156"
      ]
     },
     "execution_count": 12,
     "metadata": {},
     "output_type": "execute_result"
    }
   ],
   "source": [
    "X_data.describe()"
   ]
  },
  {
   "cell_type": "code",
   "execution_count": 13,
   "id": "2836e439",
   "metadata": {},
   "outputs": [
    {
     "data": {
      "text/plain": [
       "array([ -72.84025434,  -56.76950471, -264.33077026,  118.55916727,\n",
       "       -120.19600589, -149.98103668,  112.42727709,   40.1701236 ,\n",
       "       -141.96820478,  -73.67585194,   10.33407479, -345.71988595,\n",
       "        -69.26637873, -118.78707947,    2.15209112,  126.82714045,\n",
       "          0.91458995, -261.27203996,   46.56292086,  -25.52378711,\n",
       "         77.68993478,   28.4610334 ,  -28.25812943,  150.84037433,\n",
       "        167.08996381,  295.6546016 ,   13.73039315,  153.25504284,\n",
       "       -198.51048771,  308.4024102 , -118.62218893,   31.02504019,\n",
       "         -3.7183791 ,   41.02054897,  168.77726012,  -65.85188352,\n",
       "        124.15090375,  -35.99993997,  127.85512023,   55.15041248,\n",
       "       -147.6368684 ,   12.45236531,    3.57518675,   86.51045456,\n",
       "        409.19935965,  180.251948  ,  348.46107807,  -50.80554605,\n",
       "        -57.83463804,  189.74648505,   16.70388767, -101.20010675,\n",
       "         -2.46268941, -298.23221487, -270.68329157, -225.81587435,\n",
       "         47.46176791,   98.27210498, -131.89441301,   68.44456051,\n",
       "         -0.45467334,  107.06528028,  230.62065534, -193.35899038,\n",
       "         86.62314171,  -77.03053251,  240.5287816 , -207.22074753,\n",
       "         45.84055441,  179.70634153,  114.03156924,   62.64827391,\n",
       "        106.95561405,  -75.86575255,   50.77350183,   50.38569257,\n",
       "        -90.93511125,   41.01317612,  -44.98572706,  -18.60575235,\n",
       "        -93.16340121,  -61.31288556,  179.50670663,  163.1222073 ,\n",
       "        145.34140579,   18.07471168,  114.17324831, -147.35752334,\n",
       "         92.1679432 ,    7.12447979,  -75.85573051,   37.27595222,\n",
       "        102.3989602 ,  -93.40951441, -126.21155945,  -97.16412487,\n",
       "        -46.99807562,  101.5491967 ,  -65.84308404, -111.41313462])"
      ]
     },
     "execution_count": 13,
     "metadata": {},
     "output_type": "execute_result"
    }
   ],
   "source": [
    "y"
   ]
  },
  {
   "cell_type": "code",
   "execution_count": 4,
   "id": "7651d711",
   "metadata": {},
   "outputs": [],
   "source": [
    "X_train, X_test, y_train, y_test = train_test_split(X, y, test_size=0.2, random_state=42)"
   ]
  },
  {
   "cell_type": "code",
   "execution_count": 20,
   "id": "dfa7341a",
   "metadata": {},
   "outputs": [],
   "source": [
    "models = {\n",
    "    \"Linear Regression\": LinearRegression(),\n",
    "    \"L1 (Lasso) Regression\": Lasso(alpha=0.2),\n",
    "    \"L2 (Ridge) Regression\": Ridge(alpha=1.0)\n",
    "}"
   ]
  },
  {
   "cell_type": "code",
   "execution_count": 21,
   "id": "5c615f92",
   "metadata": {},
   "outputs": [
    {
     "name": "stdout",
     "output_type": "stream",
     "text": [
      "Linear Regression Coefficients: [61.52208912 98.47253675 61.09969936 55.54150072 35.97411246]\n",
      "Linear Regression MSE: 113.45\n",
      "\n",
      "L1 (Lasso) Regression Coefficients: [61.35433089 98.22257653 60.77197456 55.33779305 35.80604934]\n",
      "L1 (Lasso) Regression MSE: 113.72\n",
      "\n",
      "L2 (Ridge) Regression Coefficients: [60.80641691 96.97650095 59.85083263 54.82588222 35.69887237]\n",
      "L2 (Ridge) Regression MSE: 121.65\n",
      "\n"
     ]
    }
   ],
   "source": [
    "for name, model in models.items():\n",
    "    model.fit(X_train, y_train)\n",
    "    y_pred = model.predict(X_test)\n",
    "    print(f\"{name} Coefficients: {model.coef_}\")\n",
    "    print(f\"{name} MSE: {mean_squared_error(y_test, y_pred):.2f}\\n\")"
   ]
  },
  {
   "cell_type": "code",
   "execution_count": 22,
   "id": "62c29b14",
   "metadata": {},
   "outputs": [],
   "source": [
    "coeffs = [model.coef_ for model in models.values()]\n",
    "labels = list(models.keys())"
   ]
  },
  {
   "cell_type": "code",
   "execution_count": 23,
   "id": "9bdf209a",
   "metadata": {},
   "outputs": [
    {
     "data": {
      "image/png": "[encoded data removed]",
      "text/plain": [
       "<Figure size 1000x500 with 1 Axes>"
      ]
     },
     "metadata": {},
     "output_type": "display_data"
    }
   ],
   "source": [
    "plt.figure(figsize=(10, 5))\n",
    "for i, c in enumerate(coeffs):\n",
    "    plt.plot(c, marker='o', label=labels[i])\n",
    "plt.title(\"Comparison of Coefficients\")\n",
    "plt.xlabel(\"Feature Index\")\n",
    "plt.ylabel(\"Coefficient Value\")\n",
    "plt.legend()\n",
    "plt.grid(True)\n",
    "plt.show()"
   ]
  },
  {
   "cell_type": "code",
   "execution_count": null,
   "id": "2b7e6893",
   "metadata": {},
   "outputs": [],
   "source": []
  }
 ],
 "metadata": {
  "kernelspec": {
   "display_name": "base",
   "language": "python",
   "name": "python3"
  },
  "language_info": {
   "codemirror_mode": {
    "name": "ipython",
    "version": 3
   },
   "file_extension": ".py",
   "mimetype": "text/x-python",
   "name": "python",
   "nbconvert_exporter": "python",
   "pygments_lexer": "ipython3",
   "version": "3.12.4"
  }
 },
 "nbformat": 4,
 "nbformat_minor": 5
}
